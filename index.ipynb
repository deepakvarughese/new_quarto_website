{
  "cells": [
    {
      "cell_type": "raw",
      "metadata": {},
      "source": [
        "---\n",
        "title: \"Dr Deepak Varughese, MD\"\n",
        "image: profile.jpg\n",
        "about:\n",
        "  template: trestles\n",
        "  links:\n",
        "    - icon: github\n",
        "      text: Github\n",
        "      href: https://github.com\n",
        "output:\n",
        "  quarto::quarto_html:\n",
        "    css: styles.css\n",
        "---"
      ],
      "id": "c5905693"
    },
    {
      "cell_type": "markdown",
      "metadata": {},
      "source": [
        "```{css}\n",
        "body {\n",
        "  text-align: justify;\n",
        "}\n",
        "\n",
        "p {\n",
        "  text-align: justify;\n",
        "}\n",
        "```\n",
        "\n",
        "\n",
        "## Primary Care \\| Epidemiology \\| Data Science \\| Data Visualization \\| Geographical Information Systems\n",
        "\n",
        "I am a primary care physician and epidemiologist with experience in rural, tribal and urban settings. I have experience in research design , methodology, data analysis and visualization.\n",
        "\n",
        "I believe primary care and family medicine is a powerful piece in the health system. High Quality Primary Care can improve access to care and ensure effective follow up. My areas of clinical interest include chronic disease care, palliative medicine and rehabilitation.\n",
        "\n",
        "I love Data!! I believe that my experience in clinical medicine along with skills in epidemiology, biostatistics and programming give me a unique combination of skills to ask relevant questions, collect relevant data and convert that data into meaningful information and present it in the most engaging way. This could include dashboards , maps and other fun methods.\n",
        "\n",
        "These skills have led me to a very interesting crossroad between traditional epidemiology and newer data science techniques - with endless emerging possibilities.\n",
        "\n",
        "::: callout-note\n",
        "This website was made using Quarto and the R Programming Language with some additional html and css scripts.\n",
        ":::"
      ],
      "id": "4d8bac7a"
    }
  ],
  "metadata": {
    "kernelspec": {
      "display_name": "Python 3",
      "language": "python",
      "name": "python3"
    }
  },
  "nbformat": 4,
  "nbformat_minor": 5
}